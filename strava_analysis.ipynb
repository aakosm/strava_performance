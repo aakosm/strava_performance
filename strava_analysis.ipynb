{
 "cells": [
  {
   "cell_type": "markdown",
   "metadata": {},
   "source": [
    "# Explore Strava data\n",
    "\n",
    "Key metrics:\n",
    "- progress in distance\n",
    "- progress in weekly distance\n",
    "- weekly run counts"
   ]
  },
  {
   "cell_type": "code",
   "execution_count": 61,
   "metadata": {},
   "outputs": [],
   "source": [
    "import requests\n",
    "import urllib3\n",
    "import config\n",
    "import pandas as pd\n",
    "import numpy as np\n",
    "import matplotlib.pyplot as plt\n",
    "from matplotlib import rc\n",
    "from mpl_toolkits.axes_grid1.inset_locator import inset_axes\n",
    "import datetime\n",
    "urllib3.disable_warnings(urllib3.exceptions.InsecureRequestWarning)\n",
    "\n",
    "# setup default fonts for the plt plots\n",
    "plt.rcParams['font.family'] = 'sans-serif'\n",
    "plt.rcParams['font.sans-serif'] = 'Roboto Condensed'\n",
    "\n",
    "plt.rcParams['axes.spines.top'] = False\n",
    "plt.rcParams['axes.spines.right'] = False"
   ]
  },
  {
   "cell_type": "code",
   "execution_count": 2,
   "metadata": {},
   "outputs": [],
   "source": [
    "# credit for the API query code: https://github.com/franchyze923/Code_From_Tutorials/tree/master/Strava_Api\n",
    "\n",
    "auth_url = \"https://www.strava.com/oauth/token\"\n",
    "activites_url = \"https://www.strava.com/api/v3/athlete/activities\"\n",
    "\n",
    "payload = {\n",
    "    'client_id': config.client_id,\n",
    "    'client_secret': config.client_secret,\n",
    "    'refresh_token': config.refresh_token,\n",
    "    'grant_type': \"refresh_token\",\n",
    "    'f': 'json'\n",
    "}\n",
    "\n",
    "\n",
    "res = requests.post(auth_url, data=payload, verify=False)\n",
    "access_token = res.json()['access_token']\n",
    "header = {'Authorization': 'Bearer ' + access_token}\n",
    "param = {'per_page': 200, 'page': 1}\n",
    "strava_json_data = requests.get(activites_url, headers=header, params=param).json()\n",
    "\n",
    "strava_df = pd.json_normalize(strava_json_data)\n"
   ]
  },
  {
   "cell_type": "code",
   "execution_count": 3,
   "metadata": {},
   "outputs": [
    {
     "data": {
      "text/html": [
       "<div>\n",
       "<style scoped>\n",
       "    .dataframe tbody tr th:only-of-type {\n",
       "        vertical-align: middle;\n",
       "    }\n",
       "\n",
       "    .dataframe tbody tr th {\n",
       "        vertical-align: top;\n",
       "    }\n",
       "\n",
       "    .dataframe thead th {\n",
       "        text-align: right;\n",
       "    }\n",
       "</style>\n",
       "<table border=\"1\" class=\"dataframe\">\n",
       "  <thead>\n",
       "    <tr style=\"text-align: right;\">\n",
       "      <th></th>\n",
       "      <th>distance</th>\n",
       "      <th>moving_time</th>\n",
       "      <th>start_date_local</th>\n",
       "      <th>average_speed</th>\n",
       "      <th>max_speed</th>\n",
       "      <th>sport_type</th>\n",
       "      <th>start_time</th>\n",
       "      <th>week</th>\n",
       "    </tr>\n",
       "  </thead>\n",
       "  <tbody>\n",
       "    <tr>\n",
       "      <th>0</th>\n",
       "      <td>5095.4</td>\n",
       "      <td>31.300000</td>\n",
       "      <td>2022-09-01</td>\n",
       "      <td>9.7668</td>\n",
       "      <td>14.4216</td>\n",
       "      <td>Run</td>\n",
       "      <td>08:38:32</td>\n",
       "      <td>35</td>\n",
       "    </tr>\n",
       "    <tr>\n",
       "      <th>1</th>\n",
       "      <td>5172.6</td>\n",
       "      <td>31.450000</td>\n",
       "      <td>2022-08-30</td>\n",
       "      <td>9.8676</td>\n",
       "      <td>14.1912</td>\n",
       "      <td>Run</td>\n",
       "      <td>07:10:45</td>\n",
       "      <td>35</td>\n",
       "    </tr>\n",
       "    <tr>\n",
       "      <th>2</th>\n",
       "      <td>5022.7</td>\n",
       "      <td>31.316667</td>\n",
       "      <td>2022-08-28</td>\n",
       "      <td>9.6228</td>\n",
       "      <td>19.4184</td>\n",
       "      <td>Run</td>\n",
       "      <td>07:43:01</td>\n",
       "      <td>34</td>\n",
       "    </tr>\n",
       "    <tr>\n",
       "      <th>3</th>\n",
       "      <td>4978.9</td>\n",
       "      <td>30.866667</td>\n",
       "      <td>2022-08-26</td>\n",
       "      <td>9.6768</td>\n",
       "      <td>15.0624</td>\n",
       "      <td>Run</td>\n",
       "      <td>08:32:39</td>\n",
       "      <td>34</td>\n",
       "    </tr>\n",
       "    <tr>\n",
       "      <th>4</th>\n",
       "      <td>4978.5</td>\n",
       "      <td>29.883333</td>\n",
       "      <td>2022-08-24</td>\n",
       "      <td>9.9972</td>\n",
       "      <td>13.7088</td>\n",
       "      <td>Run</td>\n",
       "      <td>08:20:45</td>\n",
       "      <td>34</td>\n",
       "    </tr>\n",
       "  </tbody>\n",
       "</table>\n",
       "</div>"
      ],
      "text/plain": [
       "   distance  moving_time start_date_local  average_speed  max_speed  \\\n",
       "0    5095.4    31.300000       2022-09-01         9.7668    14.4216   \n",
       "1    5172.6    31.450000       2022-08-30         9.8676    14.1912   \n",
       "2    5022.7    31.316667       2022-08-28         9.6228    19.4184   \n",
       "3    4978.9    30.866667       2022-08-26         9.6768    15.0624   \n",
       "4    4978.5    29.883333       2022-08-24         9.9972    13.7088   \n",
       "\n",
       "  sport_type start_time  week  \n",
       "0        Run   08:38:32    35  \n",
       "1        Run   07:10:45    35  \n",
       "2        Run   07:43:01    34  \n",
       "3        Run   08:32:39    34  \n",
       "4        Run   08:20:45    34  "
      ]
     },
     "execution_count": 3,
     "metadata": {},
     "output_type": "execute_result"
    }
   ],
   "source": [
    "# create clean data frame with running data and key variables only\n",
    "feature_list = ['distance', 'moving_time', 'start_date_local', 'average_speed', 'max_speed', 'sport_type']\n",
    "\n",
    "# select the variables and observations needed\n",
    "running_data = strava_df[feature_list]\n",
    "running_data = running_data[running_data[\"sport_type\"] == 'Run']\n",
    "\n",
    "# from seconds to minutes\n",
    "# and from m/s to km/h\n",
    "running_data[\"moving_time\"] = running_data[\"moving_time\"] / 60\n",
    "running_data[\"average_speed\"] = running_data[\"average_speed\"] * 3.6\n",
    "running_data[\"max_speed\"] = running_data[\"max_speed\"] * 3.6\n",
    "\n",
    "# proper date formatting\n",
    "running_data['start_date_local'] = pd.to_datetime(running_data['start_date_local'])\n",
    "running_data['start_time'] = running_data['start_date_local'].dt.time\n",
    "running_data['start_date_local'] = running_data['start_date_local'].dt.date\n",
    "running_data['week'] = pd.to_datetime(running_data[\"start_date_local\"]).dt.isocalendar().week\n",
    "\n",
    "# data from June 2022 only\n",
    "running_data = running_data[running_data[\"start_date_local\"] > datetime.date(2022, 6, 1)]\n",
    "\n",
    "running_data.head()\n"
   ]
  },
  {
   "cell_type": "code",
   "execution_count": 80,
   "metadata": {},
   "outputs": [
    {
     "data": {
      "image/png": "[encoded data removed]",
      "text/plain": [
       "<Figure size 576x432 with 2 Axes>"
      ]
     },
     "metadata": {
      "needs_background": "light"
     },
     "output_type": "display_data"
    }
   ],
   "source": [
    "x = running_data[\"start_date_local\"]\n",
    "y = running_data[\"distance\"]\n",
    "\n",
    "plt.figure(figsize=(8,6))\n",
    "\n",
    "plt.plot(x,y, c=\"#778899\", zorder=1)\n",
    "plt.scatter(x,y, c=running_data[\"average_speed\"], cmap='plasma_r', zorder=2, edgecolors='k', s=60)\n",
    "plt.hlines(5000, running_data.start_date_local.min(), running_data.start_date_local.max(), linestyles=\"dotted\",colors='#708090')\n",
    "plt.ylim(ymin=0)\n",
    "\n",
    "plt.title('Running distance and average speed over time', fontsize=18)\n",
    "plt.ylabel(\"Distance (meters)\", fontsize=14)\n",
    "\n",
    "\n",
    "plt.colorbar(shrink=0.35, orientation=\"horizontal\").set_label(label=\"Average speed (km/h)\", size=14)\n",
    "\n",
    "#plt.savefig('figures/distance.png', facecolor=\"white\")\n",
    "\n",
    "plt.show()"
   ]
  },
  {
   "cell_type": "code",
   "execution_count": 76,
   "metadata": {},
   "outputs": [
    {
     "data": {
      "text/html": [
       "<div>\n",
       "<style scoped>\n",
       "    .dataframe tbody tr th:only-of-type {\n",
       "        vertical-align: middle;\n",
       "    }\n",
       "\n",
       "    .dataframe tbody tr th {\n",
       "        vertical-align: top;\n",
       "    }\n",
       "\n",
       "    .dataframe thead th {\n",
       "        text-align: right;\n",
       "    }\n",
       "</style>\n",
       "<table border=\"1\" class=\"dataframe\">\n",
       "  <thead>\n",
       "    <tr style=\"text-align: right;\">\n",
       "      <th></th>\n",
       "      <th>distance</th>\n",
       "      <th>count</th>\n",
       "      <th>week</th>\n",
       "    </tr>\n",
       "    <tr>\n",
       "      <th>week</th>\n",
       "      <th></th>\n",
       "      <th></th>\n",
       "      <th></th>\n",
       "    </tr>\n",
       "  </thead>\n",
       "  <tbody>\n",
       "    <tr>\n",
       "      <th>23</th>\n",
       "      <td>5284.1</td>\n",
       "      <td>2</td>\n",
       "      <td>23</td>\n",
       "    </tr>\n",
       "    <tr>\n",
       "      <th>24</th>\n",
       "      <td>2249.4</td>\n",
       "      <td>1</td>\n",
       "      <td>24</td>\n",
       "    </tr>\n",
       "    <tr>\n",
       "      <th>26</th>\n",
       "      <td>8548.1</td>\n",
       "      <td>3</td>\n",
       "      <td>26</td>\n",
       "    </tr>\n",
       "    <tr>\n",
       "      <th>27</th>\n",
       "      <td>10969.6</td>\n",
       "      <td>3</td>\n",
       "      <td>27</td>\n",
       "    </tr>\n",
       "    <tr>\n",
       "      <th>28</th>\n",
       "      <td>8032.3</td>\n",
       "      <td>2</td>\n",
       "      <td>28</td>\n",
       "    </tr>\n",
       "    <tr>\n",
       "      <th>29</th>\n",
       "      <td>11558.2</td>\n",
       "      <td>3</td>\n",
       "      <td>29</td>\n",
       "    </tr>\n",
       "    <tr>\n",
       "      <th>31</th>\n",
       "      <td>4512.9</td>\n",
       "      <td>1</td>\n",
       "      <td>31</td>\n",
       "    </tr>\n",
       "    <tr>\n",
       "      <th>32</th>\n",
       "      <td>10868.4</td>\n",
       "      <td>2</td>\n",
       "      <td>32</td>\n",
       "    </tr>\n",
       "    <tr>\n",
       "      <th>33</th>\n",
       "      <td>16983.1</td>\n",
       "      <td>3</td>\n",
       "      <td>33</td>\n",
       "    </tr>\n",
       "    <tr>\n",
       "      <th>34</th>\n",
       "      <td>19468.7</td>\n",
       "      <td>4</td>\n",
       "      <td>34</td>\n",
       "    </tr>\n",
       "    <tr>\n",
       "      <th>35</th>\n",
       "      <td>10268.0</td>\n",
       "      <td>2</td>\n",
       "      <td>35</td>\n",
       "    </tr>\n",
       "  </tbody>\n",
       "</table>\n",
       "</div>"
      ],
      "text/plain": [
       "      distance  count week\n",
       "week                      \n",
       "23      5284.1      2   23\n",
       "24      2249.4      1   24\n",
       "26      8548.1      3   26\n",
       "27     10969.6      3   27\n",
       "28      8032.3      2   28\n",
       "29     11558.2      3   29\n",
       "31      4512.9      1   31\n",
       "32     10868.4      2   32\n",
       "33     16983.1      3   33\n",
       "34     19468.7      4   34\n",
       "35     10268.0      2   35"
      ]
     },
     "execution_count": 76,
     "metadata": {},
     "output_type": "execute_result"
    }
   ],
   "source": [
    "weekly_data = running_data[[\"week\", \"distance\"]].groupby(\"week\").sum()\n",
    "weekly_data[\"count\"] = running_data[[\"week\", \"distance\"]].groupby(\"week\").count()\n",
    "weekly_data['week'] = weekly_data.index\n",
    "\n",
    "weekly_data"
   ]
  },
  {
   "cell_type": "code",
   "execution_count": 79,
   "metadata": {},
   "outputs": [
    {
     "data": {
      "image/png": "[encoded data removed]",
      "text/plain": [
       "<Figure size 576x432 with 1 Axes>"
      ]
     },
     "metadata": {
      "needs_background": "light"
     },
     "output_type": "display_data"
    }
   ],
   "source": [
    "x = weekly_data[\"week\"]\n",
    "y = weekly_data[\"distance\"]\n",
    "\n",
    "plt.figure(figsize=(8,6))\n",
    "\n",
    "#plt.grid(axis='y', color='#708090', linestyle='dashed', zorder=0)\n",
    "plt.bar(x, y, align='center', color=\"#FF7900\", zorder=3)\n",
    "plt.xticks(np.arange(min(x), max(x)+1, 1.0))\n",
    "\n",
    "plt.title(\"Weekly distances\", fontsize=18)\n",
    "plt.ylabel(\"Distance (meters)\", fontsize=14)\n",
    "plt.xlabel(\"Week\", fontsize=14)\n",
    "\n",
    "#plt.savefig('figures/avg_dist.png', facecolor=\"white\")\n",
    "\n",
    "plt.show()"
   ]
  },
  {
   "cell_type": "code",
   "execution_count": 78,
   "metadata": {},
   "outputs": [
    {
     "data": {
      "image/png": "[encoded data removed]",
      "text/plain": [
       "<Figure size 576x432 with 1 Axes>"
      ]
     },
     "metadata": {
      "needs_background": "light"
     },
     "output_type": "display_data"
    }
   ],
   "source": [
    "x = weekly_data[\"week\"]\n",
    "y = weekly_data[\"count\"]\n",
    "\n",
    "plt.figure(figsize=(8,6))\n",
    "\n",
    "#plt.grid(axis='y', color='#708090', linestyle='dashed', zorder=0)\n",
    "plt.bar(x, y, align='center', color=\"#FF7900\", zorder=3)\n",
    "plt.xticks(np.arange(min(x), max(x)+1, 1.0))\n",
    "plt.yticks(np.arange(min(y), max(y)+1, 1.0))\n",
    "\n",
    "\n",
    "plt.title(\"Weekly runs (count)\", fontsize=18)\n",
    "plt.ylabel(\"Runs\", fontsize=14)\n",
    "plt.xlabel(\"Week\", fontsize=14)\n",
    "\n",
    "#plt.savefig('figures/count.png', facecolor=\"white\")\n",
    "\n",
    "plt.show()"
   ]
  }
 ],
 "metadata": {
  "kernelspec": {
   "display_name": "Python 3.8.8 ('base')",
   "language": "python",
   "name": "python3"
  },
  "language_info": {
   "codemirror_mode": {
    "name": "ipython",
    "version": 3
   },
   "file_extension": ".py",
   "mimetype": "text/x-python",
   "name": "python",
   "nbconvert_exporter": "python",
   "pygments_lexer": "ipython3",
   "version": "3.8.8"
  },
  "orig_nbformat": 4,
  "vscode": {
   "interpreter": {
    "hash": "5b29b2a3c8004de9ca6ca381cb7b0200f1bdbafb7cc7ca63507e7cced2b22cf8"
   }
  }
 },
 "nbformat": 4,
 "nbformat_minor": 2
}
